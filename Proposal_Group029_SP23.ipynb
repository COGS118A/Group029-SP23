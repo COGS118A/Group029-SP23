{
  "cells": [
    {
      "cell_type": "markdown",
      "metadata": {
        "id": "zbIpZ5qdRDiR"
      },
      "source": [
        "# COGS 118A- Project Proposal"
      ]
    },
    {
      "cell_type": "markdown",
      "metadata": {
        "id": "fohMjTmyRDiV"
      },
      "source": [
        "# Project Description\n",
        "\n",
        "You will design and execute a machine learning project. There are a few constraints on the nature of the allowed project. \n",
        "- The problem addressed will not be a \"toy problem\" or \"common training students problem\" like mtcars, iris, palmer penguins etc.\n",
        "- The dataset will have >1k observations and >5 variables. I'd prefer more like >10k observations and >10 variables. A general rule is that if you have >100x more observations than variables, your solution will likely generalize a lot better. The goal of training a supervised machine learning model is to learn the underlying pattern in a dataset in order to generalize well to unseen data, so choosing a large dataset is very important.\n",
        "\n",
        "- The project will include a model selection and/or feature selection component where you will be looking for the best setup to maximize the performance of your ML system.\n",
        "- You will evaluate the performance of your ML system using more than one appropriate metric\n",
        "- You will be writing a report describing and discussing these accomplishments\n",
        "\n",
        "\n",
        "Feel free to delete this description section when you hand in your proposal."
      ]
    },
    {
      "cell_type": "markdown",
      "metadata": {
        "id": "gUAPxi3IRDiW"
      },
      "source": [
        "### Peer Review\n",
        "\n",
        "You will all have an opportunity to look at the Project Proposals of other groups to fuel your creativity and get more ideas for how you can improve your own projects. \n",
        "\n",
        "Both the project proposal and project checkpoint will have peer review."
      ]
    },
    {
      "cell_type": "markdown",
      "metadata": {
        "id": "KKH_NsipRDiX"
      },
      "source": [
        "# Names\n",
        "\n",
        "\n",
        "- Luke Skerrett\n",
        "- Luke Mitbo\n",
        "- Justin Ubamadu\n",
        "- Josh Salce"
      ]
    },
    {
      "cell_type": "markdown",
      "metadata": {
        "id": "YryjniTlRDiX"
      },
      "source": [
        "# Abstract - LUKE M\n",
        "This section should be short and clearly stated. It should be a single paragraph <200 words.  It should summarize: \n",
        "- what your goal/problem is\n",
        "- what the data used represents and how they are measured\n",
        "- what you will be doing with the data\n",
        "- how performance/success will be measured"
      ]
    },
    {
      "cell_type": "markdown",
      "metadata": {
        "id": "ldYDbr2hRDiX"
      },
      "source": [
        "# Background - JUSTIN\n",
        "\n",
        "Fill in the background and discuss the kind of prior work that has gone on in this research area here. **Use inline citation** to specify which references support which statements.  You can do that through HTML footnotes (demonstrated here). I used to reccommend Markdown footnotes (google is your friend) because they are simpler but recently I have had some problems with them working for me whereas HTML ones always work so far. So use the method that works for you, but do use inline citations.\n",
        "\n",
        "Here is an example of inline citation. After government genocide in the 20th century, real birds were replaced with surveillance drones designed to look just like birds<a name=\"lorenz\"></a>[<sup>[1]</sup>](#lorenznote). Use a minimum of 2 or 3 citations, but we prefer more <a name=\"admonish\"></a>[<sup>[2]</sup>](#admonishnote). You need enough citations to fully explain and back up important facts. \n",
        "\n",
        "Remeber you are trying to explain why someone would want to answer your question or why your hypothesis is in the form that you've stated. "
      ]
    },
    {
      "cell_type": "markdown",
      "metadata": {
        "id": "eE1Ib6BuRDiY"
      },
      "source": [
        "# Problem Statement - LUKE S\n",
        "\n",
        "Clearly describe the problem that you are solving. Avoid ambiguous words. The problem described should be well defined and should have at least one ML-relevant potential solution. Additionally, describe the problem thoroughly such that it is clear that the problem is quantifiable (the problem can be expressed in mathematical or logical terms), measurable (the problem can be measured by some metric and clearly observed), and replicable (the problem can be reproduced and occurs more than once)."
      ]
    },
    {
      "cell_type": "markdown",
      "metadata": {
        "id": "EwT2XDMlRDiY"
      },
      "source": [
        "# Data \n",
        "\n",
        "You should have a strong idea of what dataset(s) will be used to accomplish this project. \n",
        "\n",
        "If you know what (some) of the data you will use, please give the following information for each dataset:\n",
        "- link/reference to obtain it\n",
        "- description of the size of the dataset (# of variables, # of observations)\n",
        "- what an observation consists of\n",
        "- what some critical variables are, how they are represented\n",
        "- any special handling, transformations, cleaning, etc will be needed\n",
        "\n",
        "If you don't yet know what your dataset(s) will be, you should describe what you desire in terms of the above bullets."
      ]
    },
    {
      "cell_type": "markdown",
      "source": [
        "We will be using several different datasets, including  arbitration salaries and player statistics from for training, as well as 2022 player statistics to predict arbitration salaries for the 2023 season. We will then compare our predictions with the agreed 2023 arbitration salaries for all players we predict on.\n",
        "\n",
        "## Dataset 1\n",
        "* Name: MLB-Arbitration 2018-23.xls\n",
        "* Link: https://docs.google.com/spreadsheets/d/1qxfZP9F05K7mIO4Kwv5D6hEbvtmAutIc807GSfoCQ1A/edit#gid=55083470\n",
        "* Number of Observations (Total): 1143\n",
        "* Number of Variables: 11-12\n",
        "* Each observation consists of player data, including the player's name, service time (numerical category), season, team (category), position (category), previous year salary, current year salary, salaries offered by the player and team during arbitration (most blank due to no arbitration hearing), as well as an estimate of salary arrived at by the keepers of this data through a propreitary algorithm\n",
        "* Some cleaning will be needed to arrive at our features of interest, including season, position, and salary, as well as to standardize some column values so that other datasets can be combined.\n",
        "\n",
        "Note: If data quantity becomes an issue, additional data from years past will be collected and stored by hand in a dataset similar to the one described above. \n",
        "\n",
        "## Dataset 2\n",
        "* Name: Fangraphs Major League Leaderboards\n",
        "* Link: TBD\n",
        "* Each observation contains in-game statistics for position players (offense and defense), as well as pitchers. Those statistics represented in the dataset are available to be custom-made, meaning we will be doing some feature selection once we have determiend a set of variables to use in our data that will ultimately be trained on by our model.\n",
        "* Number of Variables and Observations: TBD\n",
        "* Important: As with our arbitration data, position will need to be transformed to be one-hot encoded, as player salaries can vary greatly by position. Also, all numerical stats that will be inputs in our model will have to be scaled through sklearn StandardScaler() objects.\n",
        "\n",
        "* Note: If expanding data beyond the year 2018, data collection issues will not be as difficult to handle as arbitration data\n",
        "\n",
        "\n",
        "Fangraphs Major League Leaderboards is a dataset that contains the statistics for MLB players. There are numerous statistics to use in this dataset, which we will choose to implement in our model at a later date. For now, some possible variables we may choose to use include (not an exhaustive list):\n",
        "\n",
        "* Position Players\n",
        "  * Batting Average (AVG)\n",
        "  * Isolated Power (ISO), a ratio of hits that go for more than one base\n",
        "  * Weighted On Base Average (wOBA), weighted average rate statistic for all ways of reaching base (i.e. hits, walks, hit-by-pitch)\n",
        "  * Percentage of balls hit at 95 mph or greater (Hard-Hit%)\n",
        "  * Percentage of batted balls hit 95 mph or higher, angling between 26 to 30 degrees (Barrel%)\n",
        "  * Defensive Runs Saved (DRS), number of potential runs prevented by a player on defense\n",
        "\n",
        "* Pitchers\n",
        "  * Strikeout Minus Walk Percentage (K%-BB%)\n",
        "  * Fielding Independent Pitching (FIP), a measure attempting to estimate performance based on home runs, strikeouts, and walks\n",
        "  * Earned Run Average (ERA), (Earned Runs / Innings Pitched) * 9\n",
        "  * Swinging-strike percentage (SwStr%)\n",
        "  * Percentage of balls batted at 95 mph or greater (Hard-Hit%)"
      ],
      "metadata": {
        "id": "5dYQqWEgRgP9"
      }
    },
    {
      "cell_type": "markdown",
      "metadata": {
        "id": "B2qCZTISRDiZ"
      },
      "source": [
        "# Proposed Solution - LUKE M\n",
        "\n",
        "In this section, clearly describe a solution to the problem. The solution should be applicable to the project domain and appropriate for the dataset(s) or input(s) given. Provide enough detail (e.g., algorithmic description and/or theoretical properties) to convince us that your solution is applicable. Why might your solution work? Make sure to describe how the solution will be tested.  \n",
        "\n",
        "If you know details already, describe how (e.g., library used, function calls) you plan to implement the solution in a way that is reproducible.\n",
        "\n",
        "If it is appropriate to the problem statement, describe a benchmark model<a name=\"sota\"></a>[<sup>[3]</sup>](#sotanote) against which your solution will be compared. "
      ]
    },
    {
      "cell_type": "markdown",
      "metadata": {
        "id": "TYA0aZ5kRDiZ"
      },
      "source": [
        "# Evaluation Metrics\n",
        "\n",
        "Given the scope of our project and the problem we are trying to address, we propose using mean-absolute error, or MAE, as our primary evaluation metric. This metric is calculated over all datapoints, with each datapoint's predicted y-value subtracted from the datapoint's true y-value (i.e. \"residuals\") from the data summed over and divided by the number of datapoints. \n",
        "\n",
        "![image.png](data:image/png;base64,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)\n",
        "\n",
        "We prefer MAE over different metrics such as mean-squared error (MSE), which takes the sum of squared residuals over the number of datapoints. MAE will be more robust to players who qualify as outliers and are predicted to have larger salaries relative to the rest of the cohort, as the possibly large difference between a fitted model's predicted value and true value would be less influential in the total error of the model. On the other hand, MSE would give less optimistic estimations of model performance from the difference between an outlier salary and its prediction being squared. More practically, however, MAE would also be preferred given that the intended units of the model's input and output includes dollars. It would be easier to interpret a model applied to this specific problem and its performance in terms of absolute error of allocated money, instead of the square of residual money error."
      ]
    },
    {
      "cell_type": "markdown",
      "metadata": {
        "id": "0Cs8Zan0RDia"
      },
      "source": [
        "# Ethics & Privacy"
      ]
    },
    {
      "cell_type": "markdown",
      "metadata": {
        "id": "R05DLiaBRDia"
      },
      "source": [
        "Our project's discussion of ethics begin with the problem we are attempting to address. We first recognize that assigning monetary value based on an athlete's performance in a specific game with specific rules and regulations is prima facie a difficult task. On the other hand, we must also recognize that exploring such a question is permissible in the first place due to the consent that MLB players give when they agree to their contracts to play, which allows for having individual in-game performance measured, collected, and evaluated to negotiate future salaries.\n",
        "\n",
        "We must also address the ethics pertaining to the data we are using in the first place. Given that the datasets and information gathered to use in our project are all made publicly available to the public through MLB and other organizations, we we find no ethical concerns for using the data that we obtain for our project. Much of this player statistics and news about player salaries has been present for decades in the time period of the Internet, with an increasing demand for more access. Older sources will also be used to gather additonal data from news articles reporting player salaries into a self-created spreadsheet. We will cite any and all datasets used; that way anyone outside of the project is able to view the data we used directly.\n",
        "\n",
        "One objection that could be raised is that our data should be used  without names or other personally identifiable information (PII) for the sake of privacy to the individual players. We do not find this proposition convincing given that the knowledge about what salary is paid to which player is made publicly available anyways, and the lack of clarity from eliminating PII leads to some obscurity about how well a model can accurately predict salary. Also, MLB players are professional athletes and thus qualify as public figures, making the concern for salary associated to one's name a subpar objection.\n",
        "\n",
        "We conclude by stating our intentions: to be reasonable in our predictions that indicate just compensation on the part of the player and the team. We suggest that some of the players in arbitration- those that are statistically among the best- may be getting underpaid relative to players under long-term contracts due to their status being under arbitration as opposed to an unrestricted free agent. Therefore, we are equally concerned of arriving at salary predicitions fair that give good estimate of player's salaries, while also being mindful of  the rules of arbitration mentioned in our background section that greatly influence the process and outcomes of salary arbitration. Any discussion about the rules of arbitration and how that may have an unjust impact on specific player's salaries is not within the scope of our project."
      ]
    },
    {
      "cell_type": "markdown",
      "metadata": {
        "id": "noI89OoMRDic"
      },
      "source": [
        "# Team Expectations"
      ]
    },
    {
      "cell_type": "markdown",
      "metadata": {
        "id": "lFjDiGcBRDid"
      },
      "source": [
        "* Team Expectation 1: All members are expected to contribute their respective amounts to the project.\n",
        "* Team Expectation 2: All members are expected to show up to our occasional meetings unless an advance notice is given, and keep everyone updated on their respective assignments over the course of the project.\n",
        "* Team Expectation 3: All members are expected to have their work done, on time, by our specified meeting dates.\n",
        "* Team Expectation 4: All members are encouraged to ask other members for assistance if they are struggling.\n",
        "All meeting and any other type of communication, such as questions and clarifications, will be done over our iMessage group chat. Meetings regarding project progress will take place at least once a week.\n",
        "In the event that a team member is not cooperating, a message will be sent to them explaining that they are expected to help out more. If after a week of sending the message there is no sign of improvement in that member's work habits, an email will be sent to the professor notifying them of the situation."
      ]
    },
    {
      "cell_type": "markdown",
      "metadata": {
        "id": "oJtEcqDDRDid"
      },
      "source": [
        "# Project Timeline Proposal"
      ]
    },
    {
      "cell_type": "markdown",
      "metadata": {
        "id": "r_4jS_4iRDid"
      },
      "source": [
        "Replace this with something meaningful that is appropriate for your needs. It doesn't have to be something that fits this format.  It doesn't have to be set in stone... \"no battle plan survives contact with the enemy\". But you need a battle plan nonetheless, and you need to keep it updated so you understand what you are trying to accomplish, who's responsible for what, and what the expected due dates are for each item.\n",
        "\n",
        "| Meeting Date  | Meeting Time| Completed Before Meeting  | Discuss at Meeting |\n",
        "|---|---|---|---|\n",
        "| 5/22  |  4 PM |  Proposal Finished  | Determine how to break down the data, have examples of dataset, figure out data cleaning and algorithms, what eval metrics to use | \n",
        "| 5/29  |  4 PM |  Data cleaned, algorithms decided, parameters tuned | Discuss implementation | \n",
        "| 6/5  | 4 PM  | Have initial implementation done  | Discuss fine tuning and any adjustments \n",
        "| 6/12 | 4 PM | Have results from final project, evaluation metrics calculated | Articulate limitations, final results"
      ]
    },
    {
      "cell_type": "markdown",
      "metadata": {
        "id": "WeRUT5EVRDie"
      },
      "source": [
        "# Footnotes\n",
        "<a name=\"lorenznote\"></a>1.[^](#lorenz): Lorenz, T. (9 Dec 2021) Birds Aren’t Real, or Are They? Inside a Gen Z Conspiracy Theory. *The New York Times*. https://www.nytimes.com/2021/12/09/technology/birds-arent-real-gen-z-misinformation.html<br> \n",
        "<a name=\"admonishnote\"></a>2.[^](#admonish): Also refs should be important to the background, not some randomly chosen vaguely related stuff. Include a web link if possible in refs as above.<br>\n",
        "<a name=\"sotanote\"></a>3.[^](#sota): Perhaps the current state of the art solution such as you see on [Papers with code](https://paperswithcode.com/sota). Or maybe not SOTA, but rather a standard textbook/Kaggle solution to this kind of problem\n"
      ]
    },
    {
      "cell_type": "code",
      "execution_count": null,
      "metadata": {
        "id": "5O02jrtyRDif"
      },
      "outputs": [],
      "source": []
    }
  ],
  "metadata": {
    "kernelspec": {
      "display_name": "Python 3 (ipykernel)",
      "language": "python",
      "name": "python3"
    },
    "language_info": {
      "codemirror_mode": {
        "name": "ipython",
        "version": 3
      },
      "file_extension": ".py",
      "mimetype": "text/x-python",
      "name": "python",
      "nbconvert_exporter": "python",
      "pygments_lexer": "ipython3",
      "version": "3.9.16"
    },
    "colab": {
      "provenance": []
    }
  },
  "nbformat": 4,
  "nbformat_minor": 0
}
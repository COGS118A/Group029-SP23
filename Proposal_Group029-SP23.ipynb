{
 "cells": [
  {
   "attachments": {},
   "cell_type": "markdown",
   "metadata": {},
   "source": [
    "# COGS 118A- Project Proposal"
   ]
  },
  {
   "attachments": {},
   "cell_type": "markdown",
   "metadata": {},
   "source": [
    "# Project Description\n",
    "\n",
    "You will design and execute a machine learning project. There are a few constraints on the nature of the allowed project. \n",
    "- The problem addressed will not be a \"toy problem\" or \"common training students problem\" like mtcars, iris, palmer penguins etc.\n",
    "- The dataset will have >1k observations and >5 variables. I'd prefer more like >10k observations and >10 variables. A general rule is that if you have >100x more observations than variables, your solution will likely generalize a lot better. The goal of training a supervised machine learning model is to learn the underlying pattern in a dataset in order to generalize well to unseen data, so choosing a large dataset is very important.\n",
    "\n",
    "- The project will include a model selection and/or feature selection component where you will be looking for the best setup to maximize the performance of your ML system.\n",
    "- You will evaluate the performance of your ML system using more than one appropriate metric\n",
    "- You will be writing a report describing and discussing these accomplishments\n",
    "\n",
    "\n",
    "Feel free to delete this description section when you hand in your proposal."
   ]
  },
  {
   "attachments": {},
   "cell_type": "markdown",
   "metadata": {},
   "source": [
    "### Peer Review\n",
    "\n",
    "You will all have an opportunity to look at the Project Proposals of other groups to fuel your creativity and get more ideas for how you can improve your own projects. \n",
    "\n",
    "Both the project proposal and project checkpoint will have peer review."
   ]
  },
  {
   "attachments": {},
   "cell_type": "markdown",
   "metadata": {},
   "source": [
    "# Names\n",
    "\n",
    "\n",
    "- Luke Skerrett\n",
    "- Luke Mitbo\n",
    "- Justin Ubamadu\n",
    "- Josh Salce"
   ]
  },
  {
   "attachments": {},
   "cell_type": "markdown",
   "metadata": {},
   "source": [
    "# Abstract - LUKE M\n",
    "This section should be short and clearly stated. It should be a single paragraph <200 words.  It should summarize: \n",
    "- what your goal/problem is\n",
    "- what the data used represents and how they are measured\n",
    "- what you will be doing with the data\n",
    "- how performance/success will be measured"
   ]
  },
  {
   "attachments": {},
   "cell_type": "markdown",
   "metadata": {},
   "source": [
    "# Background - JUSTIN\n",
    "\n",
    "Fill in the background and discuss the kind of prior work that has gone on in this research area here. **Use inline citation** to specify which references support which statements.  You can do that through HTML footnotes (demonstrated here). I used to reccommend Markdown footnotes (google is your friend) because they are simpler but recently I have had some problems with them working for me whereas HTML ones always work so far. So use the method that works for you, but do use inline citations.\n",
    "\n",
    "Here is an example of inline citation. After government genocide in the 20th century, real birds were replaced with surveillance drones designed to look just like birds<a name=\"lorenz\"></a>[<sup>[1]</sup>](#lorenznote). Use a minimum of 2 or 3 citations, but we prefer more <a name=\"admonish\"></a>[<sup>[2]</sup>](#admonishnote). You need enough citations to fully explain and back up important facts. \n",
    "\n",
    "Remeber you are trying to explain why someone would want to answer your question or why your hypothesis is in the form that you've stated. \n",
    "\n",
    "***\n",
    "\n",
    "Salary arbitration is the final solution to a contract dispute between a team and a player. The first major contract dispute that sparked the change was in 1969 <a name=\"curtFlood\"></a>[<sup>[1.]</sup>](#curtFloodNote). In 196, players were bound to teams by the reserve clause, which essentially restricted a player from ever playing for a different MLB team unless he was cut or traded. Curt Flood sued the MLB and even though it cost him his career, it generated the moment that would eventually create the arbitration period. \n",
    "\n",
    "Salary Arbitration was originally created in the winter of 1973-1974<a name=\"arbHist\"></a>[<sup>[2.]</sup>](#arbHistNote), when MLB owners approved the plan for salary arbitration. It went into place that offseason for players with at least two years of MLB service time. \n",
    "\n",
    "The most important part of our prior research is to establish what an arbitrated salary is, as this is the focal point of our project. An arbitrated salary is a special one-year salary that can be applied to a player inbetween his 3rd and 6th year of MLB service time (Time spent on the 25 man roster or Injury Reserve). There are also an exception for particular exceptional individuals who are able to arbitrate their salary midway through their second year of MLB service time. This exception is created when a player who has more than 2 years of MLB service-time but less than 3-years is in the top 22% of the league in service time, it is commonly reffered to as a \"Super-2\" player.\n",
    "\n",
    "If a player fits the criteria for salary arbitration and the team they are on cannot come to an agreement as to what their next contract should be, then both the team and the player will each write down the number they feel is adequate compensation, and submit it to a panel of arbitors. The arbitors will then judge the player based on a number of factors, for example: a. Their performance and leadership qualities, b. The team's win-loss record, c. Notable accomplishments for the player, and d. Salary comarpisons to peers in the same service-time class. At the end of the arbitration, the panel will pick one of the two numbers and that will be the players salary. The only way out for the team is if they release the player or trade them. Furthermore this contract is strictly a one-year, non-guarantee contract. Therefore they must decide on a new deal before the next arbitration window occurs, otherwise they have to do this again. \n",
    "\n",
    "The difficult part of arbitration, is that both the team and the player must select a number that they think is beneficial from their own point-of-view, while also not going too far to either of the extremes, otherwise their salary choice is unlikely to get picked. It's very risky for both parties, as only one side will get what they want in the end. A player might end up with a terrible low-end contract, or a team could end up paying a star players salary for someone that they feel is more of a role player. Meaning having an accurate estimate of what the result of an arbitration hearing would be extremely helpful, to determine whether a party wants to try their luck, or not. \n",
    "\n",
    "Similar to how Sport Journalists have Free Agency trackers and predictions for where talent will end up, MLB analysts create models to project the slaries for arbitration eligible players<a name=\"tradeRumors\"></a>[<sup>[3.]</sup>](#tradeRumorsNote). It's difficult to tell if some of these are good models as we can't see the underlying factors that generate the model, but they are good examples to go off and can give us a better analysis of our predictor data. "
   ]
  },
  {
   "attachments": {},
   "cell_type": "markdown",
   "metadata": {},
   "source": [
    "# Problem Statement - LUKE S\n",
    "\n",
    "Clearly describe the problem that you are solving. Avoid ambiguous words. The problem described should be well defined and should have at least one ML-relevant potential solution. Additionally, describe the problem thoroughly such that it is clear that the problem is quantifiable (the problem can be expressed in mathematical or logical terms), measurable (the problem can be measured by some metric and clearly observed), and replicable (the problem can be reproduced and occurs more than once)."
   ]
  },
  {
   "attachments": {},
   "cell_type": "markdown",
   "metadata": {},
   "source": [
    "# Data - JOSH\n",
    "\n",
    "You should have a strong idea of what dataset(s) will be used to accomplish this project. \n",
    "\n",
    "If you know what (some) of the data you will use, please give the following information for each dataset:\n",
    "- link/reference to obtain it\n",
    "- description of the size of the dataset (# of variables, # of observations)\n",
    "- what an observation consists of\n",
    "- what some critical variables are, how they are represented\n",
    "- any special handling, transformations, cleaning, etc will be needed\n",
    "\n",
    "If you don't yet know what your dataset(s) will be, you should describe what you desire in terms of the above bullets."
   ]
  },
  {
   "attachments": {},
   "cell_type": "markdown",
   "metadata": {},
   "source": [
    "# Proposed Solution - LUKE M\n",
    "\n",
    "In this section, clearly describe a solution to the problem. The solution should be applicable to the project domain and appropriate for the dataset(s) or input(s) given. Provide enough detail (e.g., algorithmic description and/or theoretical properties) to convince us that your solution is applicable. Why might your solution work? Make sure to describe how the solution will be tested.  \n",
    "\n",
    "If you know details already, describe how (e.g., library used, function calls) you plan to implement the solution in a way that is reproducible.\n",
    "\n",
    "If it is appropriate to the problem statement, describe a benchmark model<a name=\"sota\"></a>[<sup>[3]</sup>](#sotanote) against which your solution will be compared. "
   ]
  },
  {
   "attachments": {},
   "cell_type": "markdown",
   "metadata": {},
   "source": [
    "# Evaluation Metrics - JOSH \n",
    "\n",
    "Propose at least one evaluation metric that can be used to quantify the performance of both the benchmark model and the solution model. The evaluation metric(s) you propose should be appropriate given the context of the data, the problem statement, and the intended solution. Describe how the evaluation metric(s) are derived and provide an example of their mathematical representations (if applicable). Complex evaluation metrics should be clearly defined and quantifiable (can be expressed in mathematical or logical terms)."
   ]
  },
  {
   "attachments": {},
   "cell_type": "markdown",
   "metadata": {},
   "source": [
    "# Ethics & Privacy"
   ]
  },
  {
   "attachments": {},
   "cell_type": "markdown",
   "metadata": {},
   "source": [
    "The discussion of ethics with regards to our project begin with the problem we are attempting to address. We first recognize that assigning monetary value based on an athlete's performance in a specific game with specific rules and regulations is prima facie a difficult task. On the other hand, we must also recognize that exploring such a question is permissible in the first place due to the consent that MLB players give when they agree to their contracts to play, which allows for having individual in-game performance measured, collected, and evaluated to negotiate future salaries.\n",
    "\n",
    "We must also address the ethics pertaining to the data we are using in the first place. Given that the datasets and information gathered to use in our project are all made publicly available to the public through MLB and other organizations, we we find no ethical concerns for using the data that we obtain for our project. Much of this player statistics and news about player salaries has been present for decades in the time period of the Internet, with an increasing demand for more access. Older sources will also be used to gather additonal data from news articles reporting player salaries into a self-created spreadsheet. We will cite any and all datasets used; that way anyone outside of the project is able to view the data we used directly.\n",
    "\n",
    "One objection that could be raised is that our data should be used  without names or other personally identifiable information (PII) for the sake of privacy to the individual players. We do not find this proposition convincing given that the knowledge about what salary is paid to which player is made publicly available anyways, and the lack of clarity from eliminating PII leads to some obscurity about how well a model can accurately predict salary. Also, MLB players are professional athletes and thus qualify as public figures, making the concern for salary associated to one's name a subpar objection.\n",
    "\n",
    "We conclude by stating our intentions: to be reasonable in our predictions that indicate just compensation on the part of the player and the team. We suggest that some of the players in arbitration- those that are statistically among the best- may be getting underpaid relative to players under long-term contracts due to their status being under arbitration as opposed to an unrestricted free agent. Therefore, we are equally concerned of arriving at salary predicitions fair that give good estimate of player's salaries, while also being mindful of  the rules of arbitration mentioned in our background section that greatly influence the process and outcomes of salary arbitration. Any discussion about the rules of arbitration and how that may have an unjust impact on specific player's salaries is not within the scope of our project."
   ]
  },
  {
   "attachments": {},
   "cell_type": "markdown",
   "metadata": {},
   "source": [
    "# Team Expectations"
   ]
  },
  {
   "attachments": {},
   "cell_type": "markdown",
   "metadata": {},
   "source": [
    "* Team Expectation 1: All members are expected to contribute their respective amounts to the project.\n",
    "\n",
    "* Team Expectation 2: All members are expected to show up to our occasional meetings unless an advance notice is given, and keep everyone updated on their respective assignments over the course of the project.\n",
    "\n",
    "* Team Expectation 3: All members are expected to have their work done, on time, by our specified meeting dates.\n",
    "\n",
    "* Team Expectation 4: All members are encouraged to ask other members for assistance if they are struggling.\n",
    "\n",
    "All meeting and any other type of communication, such as questions and clarifications, will be done over our iMessage group chat. Meetings regarding project progress will take place at least once a week.\n",
    "\n",
    "In the event that a team member is not cooperating, a message will be sent to them explaining that they are expected to help out more. If after a week of sending the message there is no sign of improvement in that member's work habits, an email will be sent to the professor notifying them of the situation."
   ]
  },
  {
   "attachments": {},
   "cell_type": "markdown",
   "metadata": {},
   "source": [
    "# Project Timeline Proposal"
   ]
  },
  {
   "attachments": {},
   "cell_type": "markdown",
   "metadata": {},
   "source": [
    "Replace this with something meaningful that is appropriate for your needs. It doesn't have to be something that fits this format.  It doesn't have to be set in stone... \"no battle plan survives contact with the enemy\". But you need a battle plan nonetheless, and you need to keep it updated so you understand what you are trying to accomplish, who's responsible for what, and what the expected due dates are for each item.\n",
    "\n",
    "| Meeting Date  | Meeting Time| Completed Before Meeting  | Discuss at Meeting |\n",
    "|---|---|---|---|\n",
    "| 5/22  |  4 PM |  Proposal Finished  | Determine how to break down the data, have examples of dataset, figure out data cleaning and algorithms, what eval metrics to use | \n",
    "| 5/29  |  4 PM |  Data cleaned, algorithms decided, parameters tuned | Discuss implementation | \n",
    "| 6/5  | 4 PM  | Have initial implementation done  | Discuss fine tuning and any adjustments \n",
    "| 6/12 | 4 PM | Have results from final project, evaluation metrics calculated | Articulate limitations, final results"
   ]
  },
  {
   "attachments": {},
   "cell_type": "markdown",
   "metadata": {},
   "source": [
    "# Footnotes\n",
    "<a name=\"lorenznote\"></a>1.[^](#lorenz): Lorenz, T. (9 Dec 2021) Birds Aren’t Real, or Are They? Inside a Gen Z Conspiracy Theory. *The New York Times*. https://www.nytimes.com/2021/12/09/technology/birds-arent-real-gen-z-misinformation.html<br> \n",
    "<a name=\"admonishnote\"></a>2.[^](#admonish): Also refs should be important to the background, not some randomly chosen vaguely related stuff. Include a web link if possible in refs as above.<br>\n",
    "<a name=\"sotanote\"></a>3.[^](#sota): Perhaps the current state of the art solution such as you see on [Papers with code](https://paperswithcode.com/sota). Or maybe not SOTA, but rather a standard textbook/Kaggle solution to this kind of problem\n",
    "\n",
    "<br>\n",
    "\n",
    "### Current Research Citations\n",
    "\n",
    "<a name=\"curtFlood\"></a>[<sup>[1.]</sup>](curtFloodNote): https://via.library.depaul.edu/cgi/viewcontent.cgi?referer=&httpsredir=1&article=1085&context=jslcp#:~:text=The%20Curt%20Flood%20Act%20had,restrictions%20on%20the%20labor%20market.\n",
    "\n",
    "<a name=\"arbHist\"></a>[<sup>[2.]</sup>](#arbHistNote): https://www.cbssports.com/mlb/news/mlb-lockout-examining-baseballs-precedent-for-arbitration-eligibility-after-two-years/#:~:text=In%20the%20winter%20of%201973,years%20of%20MLB%20service%20time.\n",
    "\n",
    "<a name=\"tradeRumors\"></a>[<sup>[3.]</sup>](#tradeRumorsNote): https://www.mlbtraderumors.com/2022/10/mlb-projected-arbitration-salaries-2023.html"
   ]
  },
  {
   "cell_type": "code",
   "execution_count": null,
   "metadata": {},
   "outputs": [],
   "source": []
  }
 ],
 "metadata": {
  "kernelspec": {
   "display_name": "Python 3 (ipykernel)",
   "language": "python",
   "name": "python3"
  },
  "language_info": {
   "codemirror_mode": {
    "name": "ipython",
    "version": 3
   },
   "file_extension": ".py",
   "mimetype": "text/x-python",
   "name": "python",
   "nbconvert_exporter": "python",
   "pygments_lexer": "ipython3",
   "version": "3.9.16"
  }
 },
 "nbformat": 4,
 "nbformat_minor": 2
}
